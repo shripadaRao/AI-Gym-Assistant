{
 "cells": [
  {
   "cell_type": "code",
   "execution_count": 3,
   "id": "36d24df3",
   "metadata": {},
   "outputs": [],
   "source": [
    "import mediapipe as mp\n",
    "import cv2\n",
    "import numpy as np\n",
    "mp_drawing = mp.solutions.drawing_utils\n",
    "mp_pose = mp.solutions.pose"
   ]
  },
  {
   "cell_type": "markdown",
   "id": "bfcee2ee",
   "metadata": {},
   "source": [
    "#Video Feed"
   ]
  },
  {
   "cell_type": "code",
   "execution_count": 4,
   "id": "d548d694",
   "metadata": {},
   "outputs": [],
   "source": [
    "def calculate_angle(a,b,c):\n",
    "    a = np.array(a) # First\n",
    "    b = np.array(b) # Mid\n",
    "    c = np.array(c) # End\n",
    "    \n",
    "    radians = np.arctan2(c[1]-b[1], c[0]-b[0]) - np.arctan2(a[1]-b[1], a[0]-b[0])\n",
    "    angle = np.abs(radians*180.0/np.pi)\n",
    "    \n",
    "    if angle >180.0:\n",
    "        angle = 360-angle\n",
    "        \n",
    "    return angle \n"
   ]
  },
  {
   "cell_type": "code",
   "execution_count": 5,
   "id": "a99025e2",
   "metadata": {},
   "outputs": [],
   "source": [
    "# Curl counter variables\n",
    "counter_left = -1\n",
    "counter_right = -1\n",
    "#stage = None\n",
    "up_left = False \n",
    "up_right = False"
   ]
  },
  {
   "cell_type": "code",
   "execution_count": 6,
   "id": "b23ba068",
   "metadata": {},
   "outputs": [],
   "source": [
    "cap = cv2.VideoCapture(0)\n",
    "\n",
    "## Setup mediapipe instance\n",
    "with mp_pose.Pose(min_detection_confidence=0.75, min_tracking_confidence=0.75) as pose:\n",
    "    while cap.isOpened():\n",
    "        ret, frame = cap.read()\n",
    "        \n",
    "        # Recolor image to RGB\n",
    "        image = cv2.cvtColor(frame, cv2.COLOR_BGR2RGB)\n",
    "        image.flags.writeable = False\n",
    "      \n",
    "        # Make detection\n",
    "        results = pose.process(image)\n",
    "    \n",
    "        # Recolor back to BGR\n",
    "        image.flags.writeable = True\n",
    "        image = cv2.cvtColor(image, cv2.COLOR_RGB2BGR)\n",
    "        \n",
    "        # Extract landmarks\n",
    "        try:\n",
    "            landmarks = results.pose_landmarks.landmark\n",
    "            \n",
    "            # Get coordinates\n",
    "            shoulder_left = [landmarks[mp_pose.PoseLandmark.LEFT_SHOULDER.value].x,landmarks[mp_pose.PoseLandmark.LEFT_SHOULDER.value].y]\n",
    "                        \n",
    "            elbow_left = [landmarks[mp_pose.PoseLandmark.LEFT_ELBOW.value].x,landmarks[mp_pose.PoseLandmark.LEFT_ELBOW.value].y]\n",
    "                        \n",
    "            wrist_left = [landmarks[mp_pose.PoseLandmark.LEFT_WRIST.value].x,landmarks[mp_pose.PoseLandmark.LEFT_WRIST.value].y]\n",
    "                        \n",
    "\n",
    "\n",
    "            shoulder_right = [landmarks[mp_pose.PoseLandmark.RIGHT_SHOULDER.value].x,landmarks[mp_pose.PoseLandmark.RIGHT_SHOULDER.value].y]\n",
    "\n",
    "            elbow_right = [landmarks[mp_pose.PoseLandmark.RIGHT_ELBOW.value].x,landmarks[mp_pose.PoseLandmark.RIGHT_ELBOW.value].y]\n",
    "\n",
    "            wrist_right = [landmarks[mp_pose.PoseLandmark.RIGHT_WRIST.value].x,landmarks[mp_pose.PoseLandmark.RIGHT_WRIST.value].y]\n",
    "            \n",
    "\n",
    "            # Calculate angle\n",
    "            angle_left = calculate_angle(shoulder_left, elbow_left, wrist_left)\n",
    "            angle_right = calculate_angle(shoulder_right, elbow_right, wrist_right)\n",
    "            \n",
    "            # Visualize angle for left hand\n",
    "            cv2.putText(image, str(angle_left), \n",
    "                           tuple(np.multiply(elbow_left, [640, 480]).astype(int)), \n",
    "                           cv2.FONT_HERSHEY_SIMPLEX, 0.5, (255, 255, 255), 2, cv2.LINE_AA\n",
    "                                )\n",
    "\n",
    "            # Visualize angle for right hand\n",
    "            cv2.putText(image, str(angle_right), \n",
    "                           tuple(np.multiply(elbow_right, [640, 480]).astype(int)), \n",
    "                           cv2.FONT_HERSHEY_SIMPLEX, 0.5, (255, 255, 255), 2, cv2.LINE_AA\n",
    "                                )\n",
    "\n",
    "            \n",
    "            # Curl counter logic\n",
    "            \n",
    "            \n",
    "            \n",
    "            if not up_left and angle_left > 160:\n",
    "                up_left = True\n",
    "                counter_left +=1\n",
    "            elif angle_left <30 :\n",
    "                up_left =False\n",
    "\n",
    "            if not up_right and angle_right > 160:\n",
    "                up_right = True\n",
    "                counter_right +=1\n",
    "            elif angle_right <30 :\n",
    "                up_right =False\n",
    "            \n",
    "            #original logic\n",
    "            # if angle_right > 160:\n",
    "            #     stage == \"down\"\n",
    "            # if angle_right < 30 :\n",
    "            #     stage = \"up\"\n",
    "            #     counter_right +=1\n",
    "            #     print(counter_right)\n",
    "                       \n",
    "        except:\n",
    "            pass\n",
    "        \n",
    "        # Render curl counter\n",
    "        # Setup status box\n",
    "        #cv2.rectangle(image, (0,0), (225,73), (245,117,16), -1)\n",
    "        #cv2.rectangle(image, (0,0), (700,73), (720,117,16), -1)\n",
    "        \n",
    "        # Rep data\n",
    "        cv2.putText(image, 'Left Reps', (12,16), \n",
    "                    cv2.FONT_HERSHEY_SIMPLEX, 0.6, (0,0,0), 1, cv2.LINE_AA)\n",
    "        cv2.putText(image, str(counter_right), \n",
    "                    (10,70), \n",
    "                    cv2.FONT_HERSHEY_DUPLEX, 2, (255,255,255), 2, cv2.LINE_AA)\n",
    "\n",
    "        cv2.putText(image, 'Right Reps', (500,16), \n",
    "                    cv2.FONT_HERSHEY_SIMPLEX, 0.6, (0,0,0), 1, cv2.LINE_AA)\n",
    "        cv2.putText(image, str(counter_left), \n",
    "                    (500,70), \n",
    "                    cv2.FONT_HERSHEY_DUPLEX, 2, (255,255,255), 2, cv2.LINE_AA)\n",
    "        \n",
    "\n",
    "        # Render detections\n",
    "        mp_drawing.draw_landmarks(image, results.pose_landmarks, mp_pose.POSE_CONNECTIONS,\n",
    "                                mp_drawing.DrawingSpec(color=(245,117,66), thickness=2, circle_radius=2), \n",
    "                                mp_drawing.DrawingSpec(color=(245,66,230), thickness=2, circle_radius=2) \n",
    "                                 )               \n",
    "        \n",
    "        cv2.imshow('REP COUNTER', image)\n",
    "\n",
    "        if cv2.waitKey(10) & 0xFF == ord('q'):\n",
    "            break\n",
    "\n",
    "    cap.release()\n",
    "    cv2.destroyAllWindows()"
   ]
  },
  {
   "cell_type": "code",
   "execution_count": 7,
   "id": "683099f7",
   "metadata": {},
   "outputs": [
    {
     "name": "stdout",
     "output_type": "stream",
     "text": [
      "Congrats!. you have done 0 left reps and 0 right reps. Total Number of reps is 0.\n"
     ]
    }
   ],
   "source": [
    "text = \"Congrats!. you have done {} left reps and {} right reps. Total Number of reps is {}.\".format(counter_left, counter_right, counter_right+counter_left)\n",
    "print(text)"
   ]
  }
 ],
 "metadata": {
  "interpreter": {
   "hash": "31f2aee4e71d21fbe5cf8b01ff0e069b9275f58929596ceb00d14d90e3e16cd6"
  },
  "kernelspec": {
   "display_name": "Python 3.8.10 64-bit",
   "language": "python",
   "name": "python3"
  },
  "language_info": {
   "codemirror_mode": {
    "name": "ipython",
    "version": 3
   },
   "file_extension": ".py",
   "mimetype": "text/x-python",
   "name": "python",
   "nbconvert_exporter": "python",
   "pygments_lexer": "ipython3",
   "version": "3.8.10"
  }
 },
 "nbformat": 4,
 "nbformat_minor": 5
}
